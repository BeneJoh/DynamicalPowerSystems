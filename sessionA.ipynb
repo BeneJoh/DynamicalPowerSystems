{
 "cells": [
  {
   "cell_type": "markdown",
   "metadata": {},
   "source": [
    "# Dynamical Power Systems Tutorial \n",
    "## Part A: Single machine infinite bus "
   ]
  },
  {
   "cell_type": "markdown",
   "metadata": {},
   "source": [
    "### The model\n",
    "The *single-machine-infinite-bus* model mimics the dynamics of a single oscillator connected to an infinitely large grid lumped together. The differential equation (for states $(\\varphi, \\omega)\\in [0, 2\\pi) \\times \\mathbb{R}$ in the co-rotating reference frame) reads\n",
    "$$\\begin{align*}\n",
    "\\frac{\\mathrm{d}\\varphi}{\\mathrm{d}t} &= \\omega \\\\\n",
    "\\frac{\\mathrm{d}\\omega}{\\mathrm{d}t} &= P/M - \\omega D/M - K/M \\sin(\\varphi)\n",
    "\\end{align*}$$\n",
    "with locally produced/consumed power $P$, mass $M$, damping factor $D$, and coupling $K$. The cell below integrates the system from $t_0 = 0$ to $t = 20$. "
   ]
  },
  {
   "cell_type": "code",
   "execution_count": null,
   "metadata": {},
   "outputs": [],
   "source": [
    "import numpy as np\n",
    "import matplotlib.pyplot as plt \n",
    "from scipy.integrate import solve_ivp\n",
    "from source.coupled_swing_systems import SmibSystem\n",
    "\n",
    "# System parameters (intertia, damping, power injection, coupling)\n",
    "M = 0.1; D = 0.05; P = 0.3; K = 1.0\n",
    "\n",
    "# Stable Steady state phase angle (analytical solution)\n",
    "u_eq = [np.arcsin(P / K), 0.]\n",
    "print(f\"Stable steady state phase angle: {u_eq[0]}\")"
   ]
  },
  {
   "cell_type": "markdown",
   "metadata": {},
   "source": [
    "\n",
    "### Task 1:  Relaxation behaviour \n",
    "Study the transient and long-term behaviour of the system. For this, try out different initialisations $x_0 = (\\varphi_0, \\omega_0)\\in [0, 2\\pi) \\times \\mathbb{R}$. Does the system always relax to the steady state solution?"
   ]
  },
  {
   "cell_type": "code",
   "execution_count": null,
   "metadata": {},
   "outputs": [],
   "source": [
    "\n",
    "# Simulation parameters\n",
    "t_span = (0.0, 20.0) # time span for the simulation\n",
    "t_eval = np.linspace(t_span[0], t_span[1], 3000)\n",
    "\n",
    "# Model definition\n",
    "model = SmibSystem(M, D, P, K) \n",
    "\n",
    "# Simulate stable trajectory\n",
    "u_init = [u_eq[0]+2.5, 1.2] # initial conditions\n",
    "solution = solve_ivp(model, t_span, u_init, t_eval=t_eval)"
   ]
  },
  {
   "cell_type": "markdown",
   "metadata": {},
   "source": [
    "After integrating the system, plot the result with the following cell. In the plots, the red dashed lines indicate the analytical steady state solution. "
   ]
  },
  {
   "cell_type": "code",
   "execution_count": null,
   "metadata": {},
   "outputs": [],
   "source": [
    "# Plotting t vs omega\n",
    "fig, ax = plt.subplots(2, 1)\n",
    "ax[0].plot(solution.t, solution.y[0])\n",
    "ax[1].plot(solution.t, solution.y[1])\n",
    "ax[0].hlines(u_eq[0], solution.t[0], solution.t[-1], 'r', '--')\n",
    "ax[1].hlines(u_eq[1], solution.t[0], solution.t[-1], 'r', '--')\n",
    "ax[0].set_ylabel(r'$\\varphi$')\n",
    "ax[1].set_ylabel(r'$\\omega$')\n",
    "ax[1].set_xlabel(r't')\n",
    "plt.show()\n"
   ]
  },
  {
   "cell_type": "markdown",
   "metadata": {},
   "source": [
    "Sometimes, analysing the trajectory in state space can be more helpful. "
   ]
  },
  {
   "cell_type": "markdown",
   "metadata": {},
   "source": [
    "### Task 2: State space trajectory \n",
    "Visualise the state space trajectory on top of the phase portrait. For this, we first calculate the gradient magnitudes throughout state space. "
   ]
  },
  {
   "cell_type": "code",
   "execution_count": null,
   "metadata": {},
   "outputs": [],
   "source": [
    "from source.utils import create_2Dphaseportrait\n",
    "\n",
    "# Plot the phase portrait\n",
    "phi_lims = 1.0 * np.array([-1.0*np.pi, 1.0* np.pi]) + u_eq[0]; omega_lims = 20 * np.array([-1, 1]); res = 100\n",
    "X, Y, U, V = create_2Dphaseportrait(model, phi_lims, omega_lims, 0.0, N=res, normalize=False)\n",
    "\n",
    "vec_mag = np.sqrt(U**2 + V**2)\n",
    "# Normalized gradients\n",
    "U_dir = U / vec_mag; V_dir = V / vec_mag"
   ]
  },
  {
   "cell_type": "markdown",
   "metadata": {},
   "source": [
    "Then, plot it..."
   ]
  },
  {
   "cell_type": "code",
   "execution_count": null,
   "metadata": {},
   "outputs": [],
   "source": [
    "skip = 4 # skip every 2nd point in the quiver plot \n",
    "fig, ax = plt.subplots(figsize=(11, 6))\n",
    "main_c = ax.contourf(X - u_eq[0], Y, np.log(vec_mag) )\n",
    "ax.quiver(X[::skip, ::skip] - u_eq[0], Y[::skip, ::skip], U_dir[::skip, ::skip], V_dir[::skip, ::skip], scale=45, width=0.002, pivot=\"mid\")\n",
    "\n",
    "ax.set_xlabel(r'$\\varphi - \\varphi^\\mathrm{eq}$')\n",
    "ax.set_ylabel(r'$\\omega$')\n",
    "# Plot the trajectory and the equilibrium point\n",
    "ax.plot((solution.y[0]- u_eq[0] + np.pi ) % (2*np.pi) - np.pi, solution.y[1], 'ko', markersize=2)\n",
    "ax.plot(u_eq[0] - u_eq[0], u_eq[1], 'ro')\n",
    "\n",
    "cbar = fig.colorbar(main_c, ticks=[])\n",
    "cbar.set_label(label='Log absolute gradient')\n",
    "plt.show()"
   ]
  },
  {
   "cell_type": "markdown",
   "metadata": {},
   "source": [
    "### Task 3: Impact of damping $D$ on dynamics\n",
    "For different values of $D$, we analyse the spectrum of the jacobian matrix with numpy (see [Eigenvalues and Eigenvectors in Python](https://pythonnumericalmethods.studentorg.berkeley.edu/notebooks/chapter15.04-Eigenvalues-and-Eigenvectors-in-Python.html)). The other parameters are fixed to $M = 0.1, D = 0.05, P = 0.3, K = 1.0$. It is convenient to visualise the impact of $D$ on the eigenvalues in the root locus diagram. Note that the jacobian function is already implemented as member function of ``SmibModel``. "
   ]
  },
  {
   "cell_type": "code",
   "execution_count": null,
   "metadata": {},
   "outputs": [],
   "source": [
    "from numpy.linalg import eig\n",
    "\n",
    "# Set other parameters M, P, K\n",
    "M = 0.1; P = 5; K = 100.0\n",
    "\n",
    "Ds = np.linspace(0, 10, 100)\n",
    "\n",
    "ls = np.zeros((len(Ds), 2), dtype=complex)\n",
    "for (i, D) in enumerate(Ds): \n",
    "    system = SmibSystem(M, D, P, K, verbose=False)\n",
    "    # u_eq = [np.arcsin(P / K), 0.]\n",
    "    eigvals, _ = eig(system.jacobian(u_eq, 0.0))\n",
    "    ls[i,:] = eigvals\n",
    "\n",
    "plt.plot(np.real(ls[:, 0]), np.imag(ls[:, 0]), '1', color='red', label=r'$\\lamba_1$') \n",
    "plt.plot(np.real(ls[:, 1]), np.imag(ls[:, 1]), '2', color='blue', label=r'$\\lamba_2$')\n",
    "plt.xlabel(r'Re $\\lambda$')\n",
    "plt.ylabel(r'Im $\\lambda$')\n",
    "plt.show()"
   ]
  },
  {
   "cell_type": "code",
   "execution_count": null,
   "metadata": {},
   "outputs": [],
   "source": []
  }
 ],
 "metadata": {
  "kernelspec": {
   "display_name": ".venv",
   "language": "python",
   "name": "python3"
  },
  "language_info": {
   "codemirror_mode": {
    "name": "ipython",
    "version": 3
   },
   "file_extension": ".py",
   "mimetype": "text/x-python",
   "name": "python",
   "nbconvert_exporter": "python",
   "pygments_lexer": "ipython3",
   "version": "3.13.2"
  }
 },
 "nbformat": 4,
 "nbformat_minor": 2
}
