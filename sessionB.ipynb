{
 "cells": [
  {
   "cell_type": "markdown",
   "metadata": {},
   "source": [
    "# Dynamical Power Systems Tutorial\n",
    "## Part B: Coupled swing equations"
   ]
  },
  {
   "cell_type": "markdown",
   "metadata": {},
   "source": [
    "Here, we consider a 6-machine power system model with a specific graph topology. This model is suited to investigate local- and inter-area oscillations. "
   ]
  },
  {
   "cell_type": "code",
   "execution_count": null,
   "metadata": {},
   "outputs": [],
   "source": [
    "import numpy as np\n",
    "import matplotlib.pyplot as plt \n",
    "from scipy.integrate import solve_ivp\n",
    "from source.coupled_swing_systems import GeneralModel\n",
    "import networkx as nx\n",
    "N = 6 \n",
    "# Model parameters\n",
    "M  = 0.02; D = 50; P = 5; K = 400.0\n",
    "\n",
    "# Identical mass, damping parameters for each oscillator, also lines have the same coupling parameters\n",
    "Ms = np.ones(N) * M; Ds = np.ones(N) * D; Ps = np.array([2.0, 1.0, 1.0, -1.0, -1.0, -2.0]) * P\n",
    "# Define the coupling matrix\n",
    "Kmatrix = np.array([[0.0, 1.0, 1.0, 0.0, 0.0, 0.0], \n",
    "                    [1.0, 0.0, 1.0, 0.0, 1.0, 0.0],\n",
    "                    [1.0, 1.0, 0.0, 1.0, 0.0, 0.0], \n",
    "                    [0.0, 0.0, 1.0, 0.0, 1.0, 1.0], \n",
    "                    [0.0, 1.0, 0.0, 1.0, 0.0, 1.0], \n",
    "                    [0.0, 0.0, 0.0, 1.0, 1.0, 0.0]]) * K\n"
   ]
  },
  {
   "cell_type": "markdown",
   "metadata": {},
   "source": [
    "With the NetworkX package it is possible to visualise the power grid topology: "
   ]
  },
  {
   "cell_type": "code",
   "execution_count": null,
   "metadata": {},
   "outputs": [],
   "source": [
    "# Create graph instance from coupling matrix\n",
    "graph = nx.Graph(Kmatrix)\n",
    "# visualise the graph with colors according to P (green means production, red is consumption)\n",
    "nx.draw(graph, with_labels=True, font_weight='bold', node_color=Ps, cmap=plt.cm.RdYlGn)"
   ]
  },
  {
   "cell_type": "code",
   "execution_count": null,
   "metadata": {},
   "outputs": [],
   "source": [
    "# Simulation parameters\n",
    "t_span = (0.0, 4.0) # time span for the simulation\n",
    "t_eval = np.linspace(t_span[0], t_span[1], 3000)"
   ]
  },
  {
   "cell_type": "markdown",
   "metadata": {},
   "source": [
    "\n",
    "### Task 1 : Find the synchronous steady state \n",
    "Again, integrate the dynamical system and analyse the long-term behaviour for different model parameters.  "
   ]
  },
  {
   "cell_type": "code",
   "execution_count": null,
   "metadata": {},
   "outputs": [],
   "source": [
    "u_init = np.concatenate((np.zeros(N), np.zeros(N))) # initial conditions\n",
    "\n",
    "# Model definition\n",
    "model = GeneralModel(Ms, Ds, Ps, Kmatrix) \n",
    "# Integration\n",
    "solution = solve_ivp(model, t_span, u_init, t_eval=t_eval);"
   ]
  },
  {
   "cell_type": "code",
   "execution_count": null,
   "metadata": {},
   "outputs": [],
   "source": [
    "# Plot the frequencies\n",
    "fig, ax = plt.subplots(1, 1, figsize=(8, 6))\n",
    "for i in range(6, 12):\n",
    "    ax.plot(solution.t, solution.y[i, :], label=r'$\\omega_{{{:2d}}}$'.format(i-5))\n",
    "ax.set_xlabel(r't')\n",
    "ax.set_ylabel(r'$\\omega$')\n",
    "ax.legend()\n",
    "plt.show()"
   ]
  },
  {
   "cell_type": "code",
   "execution_count": null,
   "metadata": {},
   "outputs": [],
   "source": [
    "# Save and print the final state (is it really steady state?)\n",
    "u_eq = solution.y[:, -1]\n",
    "print(\"phi_eq = \", u_eq[:6], \"\\n\", \"omega_eq = \", u_eq[6:])"
   ]
  },
  {
   "cell_type": "markdown",
   "metadata": {},
   "source": [
    "### Task 2: Perturb the system\n",
    "\n",
    "Here, we consider the impact of load jumps and line drops on system dynamics. For each event, append a corresponding dictionary object to the events array. But first increase considered time frame and decrease line coupling. "
   ]
  },
  {
   "cell_type": "code",
   "execution_count": null,
   "metadata": {},
   "outputs": [],
   "source": [
    "# Simulation parameters\n",
    "t_span = (0.0, 20.0) # time span for the simulation\n",
    "t_eval = np.linspace(t_span[0], t_span[1], 2000)\n",
    "K = 50"
   ]
  },
  {
   "cell_type": "code",
   "execution_count": null,
   "metadata": {},
   "outputs": [],
   "source": [
    "# Events array \n",
    "events = []\n",
    "events.append({'time': 5.0, 'load_jump': np.array([-4.0*P, 0.0, 0.0, 0.0, 0.0, 0.0]) * P}) # Example of a load jump at t=5.0\n",
    "events.append({'time': 10.0, 'line_drop': (2,3)}) # Example of a line drop at t=10.0\n",
    "\n",
    "# Reset system Ps and Kmatrix\n",
    "Ps = np.array([2.0, 1.0, 1.0, -1.0, -1.0, -2.0]) * P\n",
    "Kmatrix = np.array([[0.0, 1.0, 1.0, 0.0, 0.0, 0.0], \n",
    "                    [1.0, 0.0, 1.0, 0.0, 1.0, 0.0],\n",
    "                    [1.0, 1.0, 0.0, 1.0, 0.0, 0.0], \n",
    "                    [0.0, 0.0, 1.0, 0.0, 1.0, 1.0], \n",
    "                    [0.0, 1.0, 0.0, 1.0, 0.0, 1.0], \n",
    "                    [0.0, 0.0, 0.0, 1.0, 1.0, 0.0]]) * K\n",
    "\n",
    "# Model definition\n",
    "model = GeneralModel(Ms, Ds, Ps, Kmatrix, events=events) \n",
    "# Integration\n",
    "solution = solve_ivp(model, t_span, u_eq, t_eval=t_eval)\n"
   ]
  },
  {
   "cell_type": "code",
   "execution_count": null,
   "metadata": {},
   "outputs": [],
   "source": [
    "# Plot the frequencies\n",
    "fig, ax = plt.subplots(1, 1, figsize=(8, 6))\n",
    "for i in range(6, 12):\n",
    "    ax.plot(solution.t, solution.y[i, :], label=r'$\\omega_{{{:2d}}}$'.format(i -5))\n",
    "ax.set_xlabel(r't')\n",
    "ax.set_ylabel(r'$\\omega$')\n",
    "ax.legend()\n",
    "plt.show()"
   ]
  }
 ],
 "metadata": {
  "kernelspec": {
   "display_name": ".venv",
   "language": "python",
   "name": "python3"
  },
  "language_info": {
   "codemirror_mode": {
    "name": "ipython",
    "version": 3
   },
   "file_extension": ".py",
   "mimetype": "text/x-python",
   "name": "python",
   "nbconvert_exporter": "python",
   "pygments_lexer": "ipython3",
   "version": "3.12.2"
  }
 },
 "nbformat": 4,
 "nbformat_minor": 2
}
